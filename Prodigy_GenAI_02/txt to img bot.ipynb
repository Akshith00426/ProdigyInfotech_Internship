{
 "cells": [
  {
   "cell_type": "code",
   "execution_count": null,
   "id": "c160c14e-46f9-49de-9ec1-0b01783ec898",
   "metadata": {},
   "outputs": [
    {
     "data": {
      "application/vnd.jupyter.widget-view+json": {
       "model_id": "b3eda82f06c54d459b46700a728d5dc4",
       "version_major": 2,
       "version_minor": 0
      },
      "text/plain": [
       "Loading pipeline components...:   0%|          | 0/7 [00:00<?, ?it/s]"
      ]
     },
     "metadata": {},
     "output_type": "display_data"
    },
    {
     "data": {
      "application/vnd.jupyter.widget-view+json": {
       "model_id": "0aa5a15b05bd49aebfddc80f29b5d349",
       "version_major": 2,
       "version_minor": 0
      },
      "text/plain": [
       "  0%|          | 0/50 [00:00<?, ?it/s]"
      ]
     },
     "metadata": {},
     "output_type": "display_data"
    }
   ],
   "source": [
    "try:\n",
    "    import torch\n",
    "    from diffusers import StableDiffusionPipeline\n",
    "    import customtkinter as ctk\n",
    "    from tkinter import filedialog\n",
    "except ModuleNotFoundError as e:\n",
    "    print(f\"Required module missing: {e}\")\n",
    "    print(\"Please ensure all dependencies are installed, including 'torch' and 'diffusers'.\")\n",
    "    exit(1)\n",
    "\n",
    "class TextToImageApp(ctk.CTk):\n",
    "\n",
    "    def __init__(self):\n",
    "        super().__init__()\n",
    "\n",
    "        self.title(\"Text-to-Image Generator\")\n",
    "        self.geometry(\"800x600\")\n",
    "        self.resizable(False, False)\n",
    "\n",
    "        # UI Elements\n",
    "        self.label = ctk.CTkLabel(self, text=\"Enter a prompt:\", font=(\"Helvetica\", 16))\n",
    "        self.label.pack(pady=20)\n",
    "\n",
    "        self.textbox = ctk.CTkEntry(self, width=600, height=40)\n",
    "        self.textbox.pack(pady=10)\n",
    "\n",
    "        self.generate_button = ctk.CTkButton(self, text=\"Generate Image\", command=self.generate_image)\n",
    "        self.generate_button.pack(pady=10)\n",
    "\n",
    "        self.result_label = ctk.CTkLabel(self, text=\"\", font=(\"Helvetica\", 16))\n",
    "        self.result_label.pack(pady=20)\n",
    "\n",
    "    def generate_image(self):\n",
    "        prompt = self.textbox.get()\n",
    "        if not prompt:\n",
    "            self.result_label.configure(text=\"Please enter a prompt.\")\n",
    "            return\n",
    "\n",
    "        self.result_label.configure(text=\"Generating image... Please wait.\")\n",
    "\n",
    "        try:\n",
    "            # Load the Stable Diffusion pipeline\n",
    "            device = \"cuda\" if torch.cuda.is_available() else \"cpu\"\n",
    "            dtype = torch.float16 if device == \"cuda\" else torch.float32\n",
    "            \n",
    "            pipe = StableDiffusionPipeline.from_pretrained(\"CompVis/stable-diffusion-v1-4\", torch_dtype=dtype)\n",
    "            pipe.to(device)\n",
    "\n",
    "            # Generate the image\n",
    "            image = pipe(prompt, guidance_scale=7.5).images[0]\n",
    "\n",
    "            # Save the generated image\n",
    "            image_path = filedialog.asksaveasfilename(\n",
    "                defaultextension=\".png\", \n",
    "                filetypes=[(\"PNG files\", \"*.png\")]\n",
    "            )\n",
    "            if image_path:\n",
    "                image.save(image_path)\n",
    "                self.result_label.configure(text=f\"Image saved to {image_path}\")\n",
    "            else:\n",
    "                self.result_label.configure(text=\"Image saving was canceled.\")\n",
    "\n",
    "        except Exception as e:\n",
    "            self.result_label.configure(text=f\"Error: {str(e)}\")\n",
    "\n",
    "# Run the app\n",
    "if __name__ == \"__main__\":\n",
    "    app = TextToImageApp()\n",
    "    app.mainloop()\n"
   ]
  },
  {
   "cell_type": "code",
   "execution_count": null,
   "id": "f265cec4-4dce-4157-b397-80aebd0268de",
   "metadata": {},
   "outputs": [],
   "source": []
  },
  {
   "cell_type": "code",
   "execution_count": null,
   "id": "d34becb6-645d-44db-aa7e-c5e6e48e86dd",
   "metadata": {},
   "outputs": [],
   "source": []
  }
 ],
 "metadata": {
  "kernelspec": {
   "display_name": "Python 3 (ipykernel)",
   "language": "python",
   "name": "python3"
  },
  "language_info": {
   "codemirror_mode": {
    "name": "ipython",
    "version": 3
   },
   "file_extension": ".py",
   "mimetype": "text/x-python",
   "name": "python",
   "nbconvert_exporter": "python",
   "pygments_lexer": "ipython3",
   "version": "3.11.9"
  }
 },
 "nbformat": 4,
 "nbformat_minor": 5
}
